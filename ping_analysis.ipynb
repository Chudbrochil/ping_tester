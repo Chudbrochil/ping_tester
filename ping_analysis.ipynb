{
 "cells": [
  {
   "cell_type": "markdown",
   "metadata": {},
   "source": [
    "### Imports and setup"
   ]
  },
  {
   "cell_type": "code",
   "execution_count": 16,
   "metadata": {},
   "outputs": [],
   "source": [
    "import pandas as pd\n",
    "import numpy as np\n",
    "import matplotlib.pyplot as plt"
   ]
  },
  {
   "cell_type": "code",
   "execution_count": 17,
   "metadata": {},
   "outputs": [],
   "source": [
    "df = pd.read_csv(\"~/pings/ping_data/output_2024-01-20.csv\", header=0, \n",
    "                 names=['time', 'latency_raw'], \n",
    "                 parse_dates=['time'],  # Specifying the column to parse as datetime\n",
    "                 dtype={'latency_raw': object})  # Setting the data type for the 'latency_raw' column\n"
   ]
  },
  {
   "cell_type": "code",
   "execution_count": 18,
   "metadata": {},
   "outputs": [],
   "source": [
    "# Capture a new column that has no strings, NaN's where we see strings (errors, or time outs)\n",
    "df['latency_float'] = pd.to_numeric(df['latency_raw'], errors='coerce')"
   ]
  },
  {
   "cell_type": "code",
   "execution_count": 19,
   "metadata": {},
   "outputs": [
    {
     "data": {
      "text/html": [
       "<div>\n",
       "<style scoped>\n",
       "    .dataframe tbody tr th:only-of-type {\n",
       "        vertical-align: middle;\n",
       "    }\n",
       "\n",
       "    .dataframe tbody tr th {\n",
       "        vertical-align: top;\n",
       "    }\n",
       "\n",
       "    .dataframe thead th {\n",
       "        text-align: right;\n",
       "    }\n",
       "</style>\n",
       "<table border=\"1\" class=\"dataframe\">\n",
       "  <thead>\n",
       "    <tr style=\"text-align: right;\">\n",
       "      <th></th>\n",
       "      <th>time</th>\n",
       "      <th>latency_raw</th>\n",
       "      <th>latency_float</th>\n",
       "    </tr>\n",
       "  </thead>\n",
       "  <tbody>\n",
       "    <tr>\n",
       "      <th>0</th>\n",
       "      <td>2024-01-20 18:46:08</td>\n",
       "      <td>13.2</td>\n",
       "      <td>13.2</td>\n",
       "    </tr>\n",
       "    <tr>\n",
       "      <th>1</th>\n",
       "      <td>2024-01-20 18:46:09</td>\n",
       "      <td>28.9</td>\n",
       "      <td>28.9</td>\n",
       "    </tr>\n",
       "    <tr>\n",
       "      <th>2</th>\n",
       "      <td>2024-01-20 18:46:10</td>\n",
       "      <td>14.7</td>\n",
       "      <td>14.7</td>\n",
       "    </tr>\n",
       "    <tr>\n",
       "      <th>3</th>\n",
       "      <td>2024-01-20 18:46:12</td>\n",
       "      <td>18.3</td>\n",
       "      <td>18.3</td>\n",
       "    </tr>\n",
       "    <tr>\n",
       "      <th>4</th>\n",
       "      <td>2024-01-20 18:46:13</td>\n",
       "      <td>22.7</td>\n",
       "      <td>22.7</td>\n",
       "    </tr>\n",
       "  </tbody>\n",
       "</table>\n",
       "</div>"
      ],
      "text/plain": [
       "                 time latency_raw  latency_float\n",
       "0 2024-01-20 18:46:08        13.2           13.2\n",
       "1 2024-01-20 18:46:09        28.9           28.9\n",
       "2 2024-01-20 18:46:10        14.7           14.7\n",
       "3 2024-01-20 18:46:12        18.3           18.3\n",
       "4 2024-01-20 18:46:13        22.7           22.7"
      ]
     },
     "execution_count": 19,
     "metadata": {},
     "output_type": "execute_result"
    }
   ],
   "source": [
    "df.head(5)"
   ]
  },
  {
   "cell_type": "markdown",
   "metadata": {},
   "source": [
    "### Analysis"
   ]
  },
  {
   "cell_type": "code",
   "execution_count": 20,
   "metadata": {},
   "outputs": [
    {
     "name": "stdout",
     "output_type": "stream",
     "text": [
      "There were 1 drops out of 5580 pings, or 0.0179% drop rate.\n"
     ]
    }
   ],
   "source": [
    "# Count nan's in the latency column\n",
    "drops = df['latency_float'].isnull().sum()\n",
    "\n",
    "# What's the percentage of ping drops?\n",
    "drop_rate = drops/len(df)\n",
    "\n",
    "print(f'There were {drops} drops out of {len(df)} pings, or {drop_rate*100:.3g}% drop rate.')"
   ]
  },
  {
   "cell_type": "code",
   "execution_count": 21,
   "metadata": {},
   "outputs": [
    {
     "name": "stdout",
     "output_type": "stream",
     "text": [
      "count    5579.000000\n",
      "mean       18.412748\n",
      "std         8.702010\n",
      "min         9.020000\n",
      "25%        13.800000\n",
      "50%        15.800000\n",
      "75%        21.000000\n",
      "max       289.000000\n",
      "Name: latency_float, dtype: float64\n"
     ]
    }
   ],
   "source": [
    "# Let's drop the nan's and do some base analytics on the successful pings.\n",
    "pings_list = df['latency_float'].apply(pd.to_numeric, errors='coerce')\n",
    "print(pings_list.describe())"
   ]
  },
  {
   "cell_type": "code",
   "execution_count": 22,
   "metadata": {},
   "outputs": [
    {
     "data": {
      "text/plain": [
       "PING www.google.com (142.251.116.99) 56(84) bytes of data.\\n\\n--- www.google.com ping statistics ---\\n1 packets transmitted, 0 received, 100% packet loss, time 0ms\\n\\n    1\n",
       "Name: latency_raw, dtype: int64"
      ]
     },
     "execution_count": 22,
     "metadata": {},
     "output_type": "execute_result"
    }
   ],
   "source": [
    "# What do the \"NaN's\" look like?\n",
    "nans_df = df[df['latency_float'].isnull()]\n",
    "nans_df['latency_raw'].value_counts()"
   ]
  },
  {
   "cell_type": "code",
   "execution_count": null,
   "metadata": {},
   "outputs": [],
   "source": []
  }
 ],
 "metadata": {
  "kernelspec": {
   "display_name": "Python 3 (ipykernel)",
   "language": "python",
   "name": "python3"
  },
  "language_info": {
   "codemirror_mode": {
    "name": "ipython",
    "version": 3
   },
   "file_extension": ".py",
   "mimetype": "text/x-python",
   "name": "python",
   "nbconvert_exporter": "python",
   "pygments_lexer": "ipython3",
   "version": "3.10.13"
  }
 },
 "nbformat": 4,
 "nbformat_minor": 2
}
