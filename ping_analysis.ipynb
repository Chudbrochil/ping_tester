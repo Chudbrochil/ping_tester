{
 "cells": [
  {
   "cell_type": "markdown",
   "metadata": {},
   "source": [
    "### Imports and setup"
   ]
  },
  {
   "cell_type": "code",
   "execution_count": 2,
   "metadata": {},
   "outputs": [],
   "source": [
    "import pandas as pd\n",
    "import numpy as np\n",
    "\n",
    "time_col_str = 'Time (s)'\n",
    "latency_col_str = 'Latency (in ms)'\n",
    "df = pd.read_csv(\"~/pings/ping_data/output_2024-01-20.csv\")"
   ]
  },
  {
   "cell_type": "markdown",
   "metadata": {},
   "source": [
    "### Analysis"
   ]
  },
  {
   "cell_type": "code",
   "execution_count": null,
   "metadata": {},
   "outputs": [],
   "source": [
    "# Count nan's in the latency column\n",
    "drops = df[latency_col_str].isnull().sum()\n",
    "\n",
    "# What's the percentage of ping drops?\n",
    "drop_rate = drops/len(df)\n",
    "\n",
    "print(f'There were {drops} drops out of {len(df)} pings, or {drop_rate*100}%')\n",
    "\n",
    "# Let's do some easy analysis\n",
    "\n",
    "\n",
    "\n",
    "\n",
    "print(df[latency_col_str].describe())"
   ]
  },
  {
   "cell_type": "code",
   "execution_count": null,
   "metadata": {},
   "outputs": [],
   "source": [
    "# Let's drop the nan's and do some base analytics on the successful pings.\n",
    "df[latency_col_str] = df[latency_col_str].apply(pd.to_numeric, errors='coerce')\n",
    "print(df[latency_col_str].describe())\n",
    "\n",
    "\n"
   ]
  },
  {
   "cell_type": "code",
   "execution_count": null,
   "metadata": {},
   "outputs": [],
   "source": []
  }
 ],
 "metadata": {
  "kernelspec": {
   "display_name": "Python 3 (ipykernel)",
   "language": "python",
   "name": "python3"
  },
  "language_info": {
   "codemirror_mode": {
    "name": "ipython",
    "version": 3
   },
   "file_extension": ".py",
   "mimetype": "text/x-python",
   "name": "python",
   "nbconvert_exporter": "python",
   "pygments_lexer": "ipython3",
   "version": "3.10.3"
  }
 },
 "nbformat": 4,
 "nbformat_minor": 2
}
